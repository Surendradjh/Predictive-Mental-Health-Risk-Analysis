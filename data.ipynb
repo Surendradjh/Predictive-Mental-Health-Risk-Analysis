{
 "cells": [
  {
   "cell_type": "code",
   "execution_count": 14,
   "id": "f67b09e2",
   "metadata": {},
   "outputs": [
    {
     "name": "stdout",
     "output_type": "stream",
     "text": [
      "enter no's list\n"
     ]
    },
    {
     "data": {
      "text/plain": [
       "['gfg']"
      ]
     },
     "execution_count": 14,
     "metadata": {},
     "output_type": "execute_result"
    }
   ],
   "source": [
    "l=eval(input())\n",
    "for i in range(len(l)):\n",
    "    for j in range(i+1):\n",
    "        if str(l[j]).isnumeric() == True and str(l[i]).isnumeric()==True:\n",
    "            if l[i]<l[j]:\n",
    "                l[i],l[j]=l[j],l[i]\n",
    "        else:\n",
    "            print(\"enter no's list\")\n",
    "l"
   ]
  },
  {
   "cell_type": "code",
   "execution_count": null,
   "id": "1a11a4a1",
   "metadata": {},
   "outputs": [
    {
     "name": "stdout",
     "output_type": "stream",
     "text": [
      "1 5\n"
     ]
    }
   ],
   "source": [
    "l=eval(input())\n",
    "min=max=l[0]\n",
    "for i in l:\n",
    "    if min>i:\n",
    "        min=i\n",
    "    if max<i:\n",
    "        max=i \n",
    "print(min,max)"
   ]
  }
 ],
 "metadata": {
  "kernelspec": {
   "display_name": "Python 3",
   "language": "python",
   "name": "python3"
  },
  "language_info": {
   "codemirror_mode": {
    "name": "ipython",
    "version": 3
   },
   "file_extension": ".py",
   "mimetype": "text/x-python",
   "name": "python",
   "nbconvert_exporter": "python",
   "pygments_lexer": "ipython3",
   "version": "3.12.4"
  }
 },
 "nbformat": 4,
 "nbformat_minor": 5
}
